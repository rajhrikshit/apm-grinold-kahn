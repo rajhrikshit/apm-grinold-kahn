{
 "cells": [
  {
   "metadata": {
    "ExecuteTime": {
     "end_time": "2025-07-29T05:36:35.484469Z",
     "start_time": "2025-07-29T05:36:35.415974Z"
    }
   },
   "cell_type": "code",
   "source": [
    "%load_ext autoreload\n",
    "%autoreload 2"
   ],
   "id": "137f3104e28c96e8",
   "outputs": [],
   "execution_count": 1
  },
  {
   "metadata": {},
   "cell_type": "markdown",
   "source": "Here I use the DOW as the MMI and the S&P 500 as the CAPMMI",
   "id": "2a7e1d01e09acebe"
  },
  {
   "metadata": {},
   "cell_type": "markdown",
   "source": "1",
   "id": "a5691f963ab55cd0"
  },
  {
   "metadata": {
    "ExecuteTime": {
     "end_time": "2025-07-29T05:36:35.955242Z",
     "start_time": "2025-07-29T05:36:35.639347Z"
    }
   },
   "cell_type": "code",
   "source": [
    "import numpy as np\n",
    "from utils.pandas import to_portfolio_ts\n",
    "from utils.pandas import beta"
   ],
   "id": "bd24ce9e69675d07",
   "outputs": [],
   "execution_count": 2
  },
  {
   "cell_type": "code",
   "id": "initial_id",
   "metadata": {
    "collapsed": true,
    "ExecuteTime": {
     "end_time": "2025-07-29T05:36:36.278366Z",
     "start_time": "2025-07-29T05:36:35.963081Z"
    }
   },
   "source": [
    "from data.dow import load\n",
    "\n",
    "mmi = load(start_date='2015-01-01')[['Date', 'Close', 'ticker']].rename(columns={'Date': 'date', 'Close': 'price'})\n",
    "mmi = mmi.set_index(['date', 'ticker']).sort_index()"
   ],
   "outputs": [],
   "execution_count": 3
  },
  {
   "metadata": {
    "ExecuteTime": {
     "end_time": "2025-07-29T05:36:36.310568Z",
     "start_time": "2025-07-29T05:36:36.291660Z"
    }
   },
   "cell_type": "code",
   "source": [
    "N = mmi.index.get_level_values(level='ticker').nunique()\n",
    "N"
   ],
   "id": "fe4384eb67f43141",
   "outputs": [
    {
     "data": {
      "text/plain": [
       "30"
      ]
     },
     "execution_count": 4,
     "metadata": {},
     "output_type": "execute_result"
    }
   ],
   "execution_count": 4
  },
  {
   "metadata": {
    "ExecuteTime": {
     "end_time": "2025-07-29T05:36:36.341238Z",
     "start_time": "2025-07-29T05:36:36.322896Z"
    }
   },
   "cell_type": "code",
   "source": [
    "mmi['lag_price'] = mmi.groupby(level='ticker')['price'].shift(1)\n",
    "mmi['ret'] = mmi['price']/mmi['lag_price'] - 1\n",
    "mmi = mmi.dropna()"
   ],
   "id": "df85f6812a681936",
   "outputs": [],
   "execution_count": 5
  },
  {
   "metadata": {
    "ExecuteTime": {
     "end_time": "2025-07-29T05:36:36.365184Z",
     "start_time": "2025-07-29T05:36:36.349254Z"
    }
   },
   "cell_type": "code",
   "source": [
    "vols = mmi.groupby(level='ticker')['ret'].std()\n",
    "avg_vol = vols.mean()\n",
    "avg_vol"
   ],
   "id": "4f9013fd72f73ae7",
   "outputs": [
    {
     "data": {
      "text/plain": [
       "np.float64(0.01698887369524248)"
      ]
     },
     "execution_count": 6,
     "metadata": {},
     "output_type": "execute_result"
    }
   ],
   "execution_count": 6
  },
  {
   "metadata": {
    "ExecuteTime": {
     "end_time": "2025-07-29T05:36:36.674408Z",
     "start_time": "2025-07-29T05:36:36.374413Z"
    }
   },
   "cell_type": "code",
   "source": [
    "eqp = to_portfolio_ts(mmi.copy())\n",
    "port_vol = eqp.std()\n",
    "port_vol"
   ],
   "id": "42804170ac0fd24",
   "outputs": [
    {
     "data": {
      "text/plain": [
       "np.float64(0.011014660681230637)"
      ]
     },
     "execution_count": 7,
     "metadata": {},
     "output_type": "execute_result"
    }
   ],
   "execution_count": 7
  },
  {
   "metadata": {
    "ExecuteTime": {
     "end_time": "2025-07-29T05:36:36.695183Z",
     "start_time": "2025-07-29T05:36:36.684500Z"
    }
   },
   "cell_type": "code",
   "source": [
    "avg_corr = ((port_vol/avg_vol)**2 * N - 1) / (N-1)\n",
    "avg_corr"
   ],
   "id": "a77177ce51f021be",
   "outputs": [
    {
     "data": {
      "text/plain": [
       "np.float64(0.4003640901780653)"
      ]
     },
     "execution_count": 8,
     "metadata": {},
     "output_type": "execute_result"
    }
   ],
   "execution_count": 8
  },
  {
   "metadata": {},
   "cell_type": "markdown",
   "source": "2",
   "id": "b6b6ee5dc2b96e8b"
  },
  {
   "metadata": {
    "ExecuteTime": {
     "end_time": "2025-07-29T05:36:37.304546Z",
     "start_time": "2025-07-29T05:36:36.712092Z"
    }
   },
   "cell_type": "code",
   "source": [
    "from data.sp500 import load as load_sp500\n",
    "\n",
    "capmmi = load_sp500(start_date='2015-01-01')[['Date', 'Close', 'ticker']].rename(columns={'Date': 'date', 'Close': 'price'})\n",
    "capmmi = capmmi.set_index(['date', 'ticker']).sort_index()\n",
    "capmmi['lag_price'] = capmmi.groupby(level='ticker')['price'].shift(1)\n",
    "capmmi['ret'] = capmmi['price']/capmmi['lag_price'] - 1\n",
    "capmmi = capmmi.dropna()"
   ],
   "id": "addbbd985965877d",
   "outputs": [],
   "execution_count": 9
  },
  {
   "metadata": {},
   "cell_type": "markdown",
   "source": "Since the index composition changed in the time period. Removing the stocks that were added or removed in the period from the index",
   "id": "42d5e702ae797775"
  },
  {
   "metadata": {
    "ExecuteTime": {
     "end_time": "2025-07-29T05:36:37.469525Z",
     "start_time": "2025-07-29T05:36:37.314121Z"
    }
   },
   "cell_type": "code",
   "source": [
    "all_tcks = capmmi.groupby(level='ticker').apply(lambda x: x.index.get_level_values(level='date').nunique())\n",
    "tcks = all_tcks[(all_tcks >= all_tcks.median())].rename('ndates')"
   ],
   "id": "2621d5505603e934",
   "outputs": [],
   "execution_count": 10
  },
  {
   "metadata": {
    "ExecuteTime": {
     "end_time": "2025-07-29T05:36:37.614407Z",
     "start_time": "2025-07-29T05:36:37.480490Z"
    }
   },
   "cell_type": "code",
   "source": [
    "capmmi = capmmi.join(tcks, how='inner').drop(columns=['ndates'])\n",
    "capmmi.index.get_level_values(level='ticker').nunique()"
   ],
   "id": "32dc9c429c008a17",
   "outputs": [
    {
     "data": {
      "text/plain": [
       "465"
      ]
     },
     "execution_count": 11,
     "metadata": {},
     "output_type": "execute_result"
    }
   ],
   "execution_count": 11
  },
  {
   "metadata": {
    "ExecuteTime": {
     "end_time": "2025-07-29T05:36:38.088417Z",
     "start_time": "2025-07-29T05:36:37.626038Z"
    }
   },
   "cell_type": "code",
   "source": [
    "benchmark = to_portfolio_ts(capmmi.copy())\n",
    "benchmark = benchmark.rename('market_ret')"
   ],
   "id": "1461a6e900a3be7f",
   "outputs": [],
   "execution_count": 12
  },
  {
   "metadata": {
    "ExecuteTime": {
     "end_time": "2025-07-29T05:36:38.113416Z",
     "start_time": "2025-07-29T05:36:38.098863Z"
    }
   },
   "cell_type": "code",
   "source": "mmi = mmi.join(benchmark, how='inner')",
   "id": "b379d17db3e4990",
   "outputs": [],
   "execution_count": 13
  },
  {
   "metadata": {
    "ExecuteTime": {
     "end_time": "2025-07-29T05:36:38.141467Z",
     "start_time": "2025-07-29T05:36:38.123004Z"
    }
   },
   "cell_type": "code",
   "source": "betas = mmi.groupby(level='ticker').apply(lambda x: beta(x['ret'], x['market_ret'])[0])",
   "id": "aceaa6d09ea7020c",
   "outputs": [],
   "execution_count": 14
  },
  {
   "metadata": {
    "ExecuteTime": {
     "end_time": "2025-07-29T05:36:38.162690Z",
     "start_time": "2025-07-29T05:36:38.151958Z"
    }
   },
   "cell_type": "code",
   "source": [
    "avg_beta = betas.mean()\n",
    "avg_beta"
   ],
   "id": "8d83cccf9d0b0447",
   "outputs": [
    {
     "data": {
      "text/plain": [
       "np.float64(0.9102542945980464)"
      ]
     },
     "execution_count": 15,
     "metadata": {},
     "output_type": "execute_result"
    }
   ],
   "execution_count": 15
  },
  {
   "metadata": {
    "ExecuteTime": {
     "end_time": "2025-07-29T05:36:38.186048Z",
     "start_time": "2025-07-29T05:36:38.175582Z"
    }
   },
   "cell_type": "code",
   "source": [
    "benchmark_risk = benchmark.std()\n",
    "benchmark_risk"
   ],
   "id": "c04e7aa36754479a",
   "outputs": [
    {
     "data": {
      "text/plain": [
       "np.float64(0.011639885252285213)"
      ]
     },
     "execution_count": 16,
     "metadata": {},
     "output_type": "execute_result"
    }
   ],
   "execution_count": 16
  },
  {
   "metadata": {
    "ExecuteTime": {
     "end_time": "2025-07-29T05:36:38.210215Z",
     "start_time": "2025-07-29T05:36:38.197685Z"
    }
   },
   "cell_type": "code",
   "source": [
    "# total risk of each asset is its standard deviation\n",
    "vols"
   ],
   "id": "c0cdc09b8b6db71c",
   "outputs": [
    {
     "data": {
      "text/plain": [
       "ticker\n",
       "AAPL    0.018320\n",
       "AMGN    0.015731\n",
       "AMZN    0.020765\n",
       "AXP     0.019658\n",
       "BA      0.025449\n",
       "CAT     0.018832\n",
       "CRM     0.021932\n",
       "CSCO    0.015773\n",
       "CVX     0.018604\n",
       "DIS     0.017798\n",
       "GS      0.018437\n",
       "HD      0.015329\n",
       "HON     0.014536\n",
       "IBM     0.015381\n",
       "JNJ     0.011544\n",
       "JPM     0.017266\n",
       "KO      0.011250\n",
       "MCD     0.012856\n",
       "MMM     0.016085\n",
       "MRK     0.013998\n",
       "MSFT    0.017122\n",
       "NKE     0.019470\n",
       "NVDA    0.031009\n",
       "PG      0.011719\n",
       "SHW     0.016514\n",
       "TRV     0.015180\n",
       "UNH     0.017829\n",
       "V       0.015413\n",
       "VZ      0.012327\n",
       "WMT     0.013540\n",
       "Name: ret, dtype: float64"
      ]
     },
     "execution_count": 17,
     "metadata": {},
     "output_type": "execute_result"
    }
   ],
   "execution_count": 17
  },
  {
   "metadata": {
    "ExecuteTime": {
     "end_time": "2025-07-29T05:36:38.259228Z",
     "start_time": "2025-07-29T05:36:38.247543Z"
    }
   },
   "cell_type": "code",
   "source": [
    "risks = vols.rename('total_risk').to_frame().join(betas.rename('beta'))\n",
    "risks['residual_risk'] = risks['total_risk'] - risks['beta']*benchmark_risk"
   ],
   "id": "10b96fcff9bf7a44",
   "outputs": [],
   "execution_count": 18
  },
  {
   "metadata": {
    "ExecuteTime": {
     "end_time": "2025-07-29T05:36:38.305446Z",
     "start_time": "2025-07-29T05:36:38.292550Z"
    }
   },
   "cell_type": "code",
   "source": "risks.mean().rename('mean')",
   "id": "9600d71cd35f2813",
   "outputs": [
    {
     "data": {
      "text/plain": [
       "total_risk       0.016989\n",
       "beta             0.910254\n",
       "residual_risk    0.006394\n",
       "Name: mean, dtype: float64"
      ]
     },
     "execution_count": 19,
     "metadata": {},
     "output_type": "execute_result"
    }
   ],
   "execution_count": 19
  },
  {
   "metadata": {
    "ExecuteTime": {
     "end_time": "2025-07-29T05:36:38.352711Z",
     "start_time": "2025-07-29T05:36:38.350978Z"
    }
   },
   "cell_type": "code",
   "source": "",
   "id": "789150791e589054",
   "outputs": [],
   "execution_count": null
  },
  {
   "metadata": {},
   "cell_type": "markdown",
   "source": "3.",
   "id": "582dc368de21ab88"
  },
  {
   "metadata": {
    "ExecuteTime": {
     "end_time": "2025-07-29T05:36:38.411458Z",
     "start_time": "2025-07-29T05:36:38.399626Z"
    }
   },
   "cell_type": "code",
   "source": [
    "eqp = eqp.rename('port_ret').to_frame()\n",
    "eqp = eqp.join(benchmark, how='inner')"
   ],
   "id": "68f1c1d4012e088e",
   "outputs": [],
   "execution_count": 20
  },
  {
   "metadata": {
    "ExecuteTime": {
     "end_time": "2025-07-29T05:36:38.438051Z",
     "start_time": "2025-07-29T05:36:38.423772Z"
    }
   },
   "cell_type": "code",
   "source": [
    "eqp['tracking_error'] = eqp['port_ret'] - eqp['market_ret']\n",
    "active_risk = eqp['tracking_error'].std()\n",
    "active_risk"
   ],
   "id": "5872bfd234b0b0b6",
   "outputs": [
    {
     "data": {
      "text/plain": [
       "np.float64(0.003206379293818309)"
      ]
     },
     "execution_count": 21,
     "metadata": {},
     "output_type": "execute_result"
    }
   ],
   "execution_count": 21
  },
  {
   "metadata": {
    "ExecuteTime": {
     "end_time": "2025-07-29T05:36:38.478899Z",
     "start_time": "2025-07-29T05:36:38.466161Z"
    }
   },
   "cell_type": "code",
   "source": [
    "t1 = (benchmark_risk*(risks['beta'].mean()-1))**2\n",
    "t2 = risks['residual_risk'].mean()**2 / N\n",
    "np.sqrt(t1+t2)"
   ],
   "id": "31c791cce09d0ce9",
   "outputs": [
    {
     "data": {
      "text/plain": [
       "np.float64(0.0015664810906919216)"
      ]
     },
     "execution_count": 22,
     "metadata": {},
     "output_type": "execute_result"
    }
   ],
   "execution_count": 22
  },
  {
   "metadata": {},
   "cell_type": "markdown",
   "source": "True active risk was more than double of what would be estimated by making equal average vol and uncorrelated vol assumptions",
   "id": "1432aa9293030b1f"
  },
  {
   "metadata": {},
   "cell_type": "markdown",
   "source": "Let's increase the portfolio size by selecting random 100 stocks from S&P 500",
   "id": "7084f1bf39c940ce"
  },
  {
   "metadata": {
    "ExecuteTime": {
     "end_time": "2025-07-29T05:36:38.505836Z",
     "start_time": "2025-07-29T05:36:38.493049Z"
    }
   },
   "cell_type": "code",
   "source": "del mmi",
   "id": "ee43c97ae9799e2d",
   "outputs": [],
   "execution_count": 23
  },
  {
   "metadata": {
    "ExecuteTime": {
     "end_time": "2025-07-29T05:36:38.591809Z",
     "start_time": "2025-07-29T05:36:38.518988Z"
    }
   },
   "cell_type": "code",
   "source": [
    "np.random.seed(11)\n",
    "N = 100\n",
    "keys = np.random.choice(capmmi.index.get_level_values(level='ticker').unique(), size=N, replace=False)"
   ],
   "id": "a67d0070f607d40",
   "outputs": [],
   "execution_count": 24
  },
  {
   "metadata": {
    "ExecuteTime": {
     "end_time": "2025-07-29T05:36:38.661113Z",
     "start_time": "2025-07-29T05:36:38.605205Z"
    }
   },
   "cell_type": "code",
   "source": [
    "mmi2 = capmmi[capmmi.index.get_level_values(level='ticker').isin(keys)]\n",
    "mmi2 = mmi2.join(benchmark, how='inner')"
   ],
   "id": "dad47ea77e60c6fa",
   "outputs": [],
   "execution_count": 25
  },
  {
   "metadata": {
    "ExecuteTime": {
     "end_time": "2025-07-29T05:36:39.064777Z",
     "start_time": "2025-07-29T05:36:38.677285Z"
    }
   },
   "cell_type": "code",
   "source": [
    "vols2 = mmi2.groupby(level='ticker')['ret'].std()\n",
    "eqp2 = to_portfolio_ts(mmi2.copy())"
   ],
   "id": "3fe3ab8edb2e8501",
   "outputs": [],
   "execution_count": 26
  },
  {
   "metadata": {
    "ExecuteTime": {
     "end_time": "2025-07-29T05:36:39.116206Z",
     "start_time": "2025-07-29T05:36:39.077004Z"
    }
   },
   "cell_type": "code",
   "source": [
    "betas2 = mmi2.groupby(level='ticker').apply(lambda x: beta(x['ret'], x['market_ret'])[0])\n",
    "risks2 = vols2.rename('total_risk').to_frame().join(betas2.rename('beta'))\n",
    "risks2['residual_risk'] = risks2['total_risk'] - risks2['beta']*benchmark_risk\n",
    "risks2.mean().rename('mean')"
   ],
   "id": "b5ed3ad3450ff84c",
   "outputs": [
    {
     "data": {
      "text/plain": [
       "total_risk       0.019844\n",
       "beta             1.001888\n",
       "residual_risk    0.008182\n",
       "Name: mean, dtype: float64"
      ]
     },
     "execution_count": 27,
     "metadata": {},
     "output_type": "execute_result"
    }
   ],
   "execution_count": 27
  },
  {
   "metadata": {
    "ExecuteTime": {
     "end_time": "2025-07-29T05:36:39.165126Z",
     "start_time": "2025-07-29T05:36:39.151853Z"
    }
   },
   "cell_type": "code",
   "source": [
    "eqp2 = eqp2.rename('port_ret').to_frame()\n",
    "eqp2 = eqp2.join(benchmark, how='inner')\n",
    "eqp2['tracking_error'] = eqp2['port_ret'] - eqp2['market_ret']\n",
    "active_risk = eqp2['tracking_error'].std()\n",
    "active_risk"
   ],
   "id": "f5596e471b90ce7b",
   "outputs": [
    {
     "data": {
      "text/plain": [
       "np.float64(0.0014668897723248266)"
      ]
     },
     "execution_count": 28,
     "metadata": {},
     "output_type": "execute_result"
    }
   ],
   "execution_count": 28
  },
  {
   "metadata": {
    "ExecuteTime": {
     "end_time": "2025-07-29T05:36:39.211554Z",
     "start_time": "2025-07-29T05:36:39.199424Z"
    }
   },
   "cell_type": "code",
   "source": [
    "t1 = (benchmark_risk*(risks2['beta'].mean()-1))**2\n",
    "t2 = risks2['residual_risk'].mean()**2 / N\n",
    "np.sqrt(t1+t2)"
   ],
   "id": "40bf8b21b2745f36",
   "outputs": [
    {
     "data": {
      "text/plain": [
       "np.float64(0.0008184736086841451)"
      ]
     },
     "execution_count": 29,
     "metadata": {},
     "output_type": "execute_result"
    }
   ],
   "execution_count": 29
  },
  {
   "metadata": {
    "ExecuteTime": {
     "end_time": "2025-07-29T05:36:39.235745Z",
     "start_time": "2025-07-29T05:36:39.234239Z"
    }
   },
   "cell_type": "code",
   "source": "",
   "id": "8782460862e76fcb",
   "outputs": [],
   "execution_count": null
  }
 ],
 "metadata": {
  "kernelspec": {
   "display_name": "Python 3",
   "language": "python",
   "name": "python3"
  },
  "language_info": {
   "codemirror_mode": {
    "name": "ipython",
    "version": 2
   },
   "file_extension": ".py",
   "mimetype": "text/x-python",
   "name": "python",
   "nbconvert_exporter": "python",
   "pygments_lexer": "ipython2",
   "version": "2.7.6"
  }
 },
 "nbformat": 4,
 "nbformat_minor": 5
}
